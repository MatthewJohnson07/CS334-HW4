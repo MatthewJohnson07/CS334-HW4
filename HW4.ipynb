{
 "cells": [
  {
   "cell_type": "code",
   "execution_count": 118,
   "metadata": {},
   "outputs": [],
   "source": [
    "import numpy as np\n",
    "import pandas as pd\n",
    "from datetime import datetime\n",
    "import matplotlib.pyplot as plt\n",
    "from meteostat import Point, Daily\n",
    "from sklearn import linear_model"
   ]
  },
  {
   "cell_type": "code",
   "execution_count": 119,
   "metadata": {},
   "outputs": [],
   "source": [
    "start_date = datetime(2017, 9, 9)\n",
    "end_date = datetime(2021, 9, 9)"
   ]
  },
  {
   "cell_type": "code",
   "execution_count": 120,
   "metadata": {
    "scrolled": false
   },
   "outputs": [
    {
     "data": {
      "text/html": [
       "<div>\n",
       "<style scoped>\n",
       "    .dataframe tbody tr th:only-of-type {\n",
       "        vertical-align: middle;\n",
       "    }\n",
       "\n",
       "    .dataframe tbody tr th {\n",
       "        vertical-align: top;\n",
       "    }\n",
       "\n",
       "    .dataframe thead th {\n",
       "        text-align: right;\n",
       "    }\n",
       "</style>\n",
       "<table border=\"1\" class=\"dataframe\">\n",
       "  <thead>\n",
       "    <tr style=\"text-align: right;\">\n",
       "      <th></th>\n",
       "      <th>tavg</th>\n",
       "      <th>tmin</th>\n",
       "      <th>tmax</th>\n",
       "      <th>prcp</th>\n",
       "      <th>snow</th>\n",
       "      <th>wdir</th>\n",
       "      <th>wspd</th>\n",
       "      <th>pres</th>\n",
       "      <th>willRain</th>\n",
       "    </tr>\n",
       "    <tr>\n",
       "      <th>time</th>\n",
       "      <th></th>\n",
       "      <th></th>\n",
       "      <th></th>\n",
       "      <th></th>\n",
       "      <th></th>\n",
       "      <th></th>\n",
       "      <th></th>\n",
       "      <th></th>\n",
       "      <th></th>\n",
       "    </tr>\n",
       "  </thead>\n",
       "  <tbody>\n",
       "    <tr>\n",
       "      <th>2017-09-09</th>\n",
       "      <td>25.7</td>\n",
       "      <td>20.6</td>\n",
       "      <td>31.7</td>\n",
       "      <td>0.0</td>\n",
       "      <td>0.0</td>\n",
       "      <td>NaN</td>\n",
       "      <td>7.9</td>\n",
       "      <td>1011.7</td>\n",
       "      <td>0.0</td>\n",
       "    </tr>\n",
       "    <tr>\n",
       "      <th>2017-09-10</th>\n",
       "      <td>23.5</td>\n",
       "      <td>15.0</td>\n",
       "      <td>31.7</td>\n",
       "      <td>0.0</td>\n",
       "      <td>0.0</td>\n",
       "      <td>NaN</td>\n",
       "      <td>9.0</td>\n",
       "      <td>1017.6</td>\n",
       "      <td>0.0</td>\n",
       "    </tr>\n",
       "    <tr>\n",
       "      <th>2017-09-11</th>\n",
       "      <td>22.9</td>\n",
       "      <td>14.4</td>\n",
       "      <td>32.2</td>\n",
       "      <td>0.0</td>\n",
       "      <td>0.0</td>\n",
       "      <td>NaN</td>\n",
       "      <td>5.0</td>\n",
       "      <td>1017.9</td>\n",
       "      <td>0.0</td>\n",
       "    </tr>\n",
       "    <tr>\n",
       "      <th>2017-09-12</th>\n",
       "      <td>24.7</td>\n",
       "      <td>17.2</td>\n",
       "      <td>31.7</td>\n",
       "      <td>0.0</td>\n",
       "      <td>0.0</td>\n",
       "      <td>NaN</td>\n",
       "      <td>7.9</td>\n",
       "      <td>1012.4</td>\n",
       "      <td>0.0</td>\n",
       "    </tr>\n",
       "    <tr>\n",
       "      <th>2017-09-13</th>\n",
       "      <td>24.6</td>\n",
       "      <td>18.9</td>\n",
       "      <td>30.6</td>\n",
       "      <td>0.0</td>\n",
       "      <td>0.0</td>\n",
       "      <td>NaN</td>\n",
       "      <td>11.5</td>\n",
       "      <td>1007.7</td>\n",
       "      <td>0.0</td>\n",
       "    </tr>\n",
       "    <tr>\n",
       "      <th>...</th>\n",
       "      <td>...</td>\n",
       "      <td>...</td>\n",
       "      <td>...</td>\n",
       "      <td>...</td>\n",
       "      <td>...</td>\n",
       "      <td>...</td>\n",
       "      <td>...</td>\n",
       "      <td>...</td>\n",
       "      <td>...</td>\n",
       "    </tr>\n",
       "    <tr>\n",
       "      <th>2021-09-05</th>\n",
       "      <td>23.1</td>\n",
       "      <td>12.8</td>\n",
       "      <td>33.9</td>\n",
       "      <td>0.0</td>\n",
       "      <td>0.0</td>\n",
       "      <td>121.6</td>\n",
       "      <td>7.9</td>\n",
       "      <td>1014.2</td>\n",
       "      <td>0.0</td>\n",
       "    </tr>\n",
       "    <tr>\n",
       "      <th>2021-09-06</th>\n",
       "      <td>23.7</td>\n",
       "      <td>13.3</td>\n",
       "      <td>32.8</td>\n",
       "      <td>0.0</td>\n",
       "      <td>0.0</td>\n",
       "      <td>56.0</td>\n",
       "      <td>9.7</td>\n",
       "      <td>1015.0</td>\n",
       "      <td>0.0</td>\n",
       "    </tr>\n",
       "    <tr>\n",
       "      <th>2021-09-07</th>\n",
       "      <td>24.2</td>\n",
       "      <td>15.6</td>\n",
       "      <td>34.4</td>\n",
       "      <td>0.0</td>\n",
       "      <td>0.0</td>\n",
       "      <td>174.0</td>\n",
       "      <td>9.4</td>\n",
       "      <td>1015.9</td>\n",
       "      <td>0.0</td>\n",
       "    </tr>\n",
       "    <tr>\n",
       "      <th>2021-09-08</th>\n",
       "      <td>25.3</td>\n",
       "      <td>16.7</td>\n",
       "      <td>33.9</td>\n",
       "      <td>0.0</td>\n",
       "      <td>0.0</td>\n",
       "      <td>124.6</td>\n",
       "      <td>10.8</td>\n",
       "      <td>1016.0</td>\n",
       "      <td>0.0</td>\n",
       "    </tr>\n",
       "    <tr>\n",
       "      <th>2021-09-09</th>\n",
       "      <td>25.5</td>\n",
       "      <td>17.8</td>\n",
       "      <td>36.7</td>\n",
       "      <td>0.0</td>\n",
       "      <td>0.0</td>\n",
       "      <td>125.5</td>\n",
       "      <td>10.1</td>\n",
       "      <td>1013.8</td>\n",
       "      <td>0.0</td>\n",
       "    </tr>\n",
       "  </tbody>\n",
       "</table>\n",
       "<p>1462 rows × 9 columns</p>\n",
       "</div>"
      ],
      "text/plain": [
       "            tavg  tmin  tmax  prcp  snow   wdir  wspd    pres  willRain\n",
       "time                                                                   \n",
       "2017-09-09  25.7  20.6  31.7   0.0   0.0    NaN   7.9  1011.7       0.0\n",
       "2017-09-10  23.5  15.0  31.7   0.0   0.0    NaN   9.0  1017.6       0.0\n",
       "2017-09-11  22.9  14.4  32.2   0.0   0.0    NaN   5.0  1017.9       0.0\n",
       "2017-09-12  24.7  17.2  31.7   0.0   0.0    NaN   7.9  1012.4       0.0\n",
       "2017-09-13  24.6  18.9  30.6   0.0   0.0    NaN  11.5  1007.7       0.0\n",
       "...          ...   ...   ...   ...   ...    ...   ...     ...       ...\n",
       "2021-09-05  23.1  12.8  33.9   0.0   0.0  121.6   7.9  1014.2       0.0\n",
       "2021-09-06  23.7  13.3  32.8   0.0   0.0   56.0   9.7  1015.0       0.0\n",
       "2021-09-07  24.2  15.6  34.4   0.0   0.0  174.0   9.4  1015.9       0.0\n",
       "2021-09-08  25.3  16.7  33.9   0.0   0.0  124.6  10.8  1016.0       0.0\n",
       "2021-09-09  25.5  17.8  36.7   0.0   0.0  125.5  10.1  1013.8       0.0\n",
       "\n",
       "[1462 rows x 9 columns]"
      ]
     },
     "execution_count": 120,
     "metadata": {},
     "output_type": "execute_result"
    }
   ],
   "source": [
    "# Create Point for Boise, ID\n",
    "boise = Point(43.5667, -116.2333, 871)\n",
    "\n",
    "# Get daily data for 2018\n",
    "data = Daily(boise, start_date, end_date)\n",
    "data = data.fetch()\n",
    "data[\"willRain\"] = data[\"prcp\"].apply(lambda val: 1 if val >= 0.1 else 0).astype(float)\n",
    "data['wdir'] = data['wdir'].astype(float)\n",
    "data['snow'] = data['snow'].astype(float)\n",
    "data['wpgt'] = data['wpgt'].astype(float)\n",
    "data['tsun'] = data['tsun'].astype(float)\n",
    "data['pres'] = data['pres'].astype(float)\n",
    "data = data.drop('tsun', 1)\n",
    "data = data.drop('wpgt', 1)\n",
    "data"
   ]
  },
  {
   "cell_type": "code",
   "execution_count": 121,
   "metadata": {},
   "outputs": [
    {
     "data": {
      "text/plain": [
       "tavg          0\n",
       "tmin          0\n",
       "tmax          0\n",
       "prcp          0\n",
       "snow          0\n",
       "wdir        259\n",
       "wspd          0\n",
       "pres         33\n",
       "willRain      0\n",
       "dtype: int64"
      ]
     },
     "execution_count": 121,
     "metadata": {},
     "output_type": "execute_result"
    }
   ],
   "source": [
    "'''Number of rows that are null'''\n",
    "data.isnull().sum()"
   ]
  },
  {
   "cell_type": "code",
   "execution_count": 122,
   "metadata": {},
   "outputs": [
    {
     "data": {
      "text/plain": [
       "tavg        0\n",
       "tmin        0\n",
       "tmax        0\n",
       "prcp        0\n",
       "snow        0\n",
       "wdir        0\n",
       "wspd        0\n",
       "pres        0\n",
       "willRain    0\n",
       "dtype: int64"
      ]
     },
     "execution_count": 122,
     "metadata": {},
     "output_type": "execute_result"
    }
   ],
   "source": [
    "'''Drop all rows that are null'''\n",
    "data.dropna(inplace = True)\n",
    "data.isnull().sum()"
   ]
  },
  {
   "cell_type": "code",
   "execution_count": 123,
   "metadata": {
    "scrolled": true
   },
   "outputs": [
    {
     "data": {
      "image/png": "[encoded data removed]",
      "text/plain": [
       "<Figure size 432x288 with 1 Axes>"
      ]
     },
     "metadata": {
      "needs_background": "light"
     },
     "output_type": "display_data"
    }
   ],
   "source": [
    "data.plot(y=['tavg', 'tmin', 'tmax'])\n",
    "plt.show()"
   ]
  },
  {
   "cell_type": "markdown",
   "metadata": {},
   "source": [
    "Convert dataframe to CSV file"
   ]
  },
  {
   "cell_type": "code",
   "execution_count": 124,
   "metadata": {},
   "outputs": [],
   "source": [
    "data.to_csv('weather.csv', index=True)"
   ]
  },
  {
   "cell_type": "code",
   "execution_count": 125,
   "metadata": {},
   "outputs": [],
   "source": [
    "col_names = ['date', 'temp avg', 'temp min', 'temp max', 'precipitation', 'snow', 'wind dir', 'wind speed', 'air pressure', 'willRain']\n",
    "weather = pd.read_csv(\"weather.csv\", header = None, names=col_names)\n",
    "weather = weather.iloc[1: , :]"
   ]
  },
  {
   "cell_type": "code",
   "execution_count": 126,
   "metadata": {},
   "outputs": [
    {
     "data": {
      "text/plain": [
       "date             datetime64[ns]\n",
       "temp avg                float64\n",
       "temp min                float64\n",
       "temp max                float64\n",
       "precipitation           float64\n",
       "snow                    float64\n",
       "wind dir                float64\n",
       "wind speed              float64\n",
       "air pressure            float64\n",
       "willRain                float64\n",
       "dtype: object"
      ]
     },
     "execution_count": 126,
     "metadata": {},
     "output_type": "execute_result"
    }
   ],
   "source": [
    "weather['date'] = pd.to_datetime(weather['date'])\n",
    "weather['temp avg'] = weather['temp avg'].astype(float)\n",
    "weather['temp min'] = weather['temp min'].astype(float)\n",
    "weather['temp max'] = weather['temp max'].astype(float)\n",
    "weather['precipitation'] = weather['precipitation'].astype(float)\n",
    "weather['snow'] = weather['snow'].astype(float)\n",
    "weather['wind dir'] = weather['wind dir'].astype(float)\n",
    "weather['wind speed'] = weather['wind speed'].astype(float)\n",
    "weather['air pressure'] = weather['air pressure'].astype(float)\n",
    "weather['willRain'] = weather['willRain'].astype(float)\n",
    "\n",
    "weather.dtypes"
   ]
  },
  {
   "cell_type": "code",
   "execution_count": 127,
   "metadata": {},
   "outputs": [
    {
     "data": {
      "text/plain": [
       "-7.9"
      ]
     },
     "execution_count": 127,
     "metadata": {},
     "output_type": "execute_result"
    }
   ],
   "source": [
    "'''The minimum temperature average can be negative, need to convert to farhenheit'''\n",
    "weather['temp avg'].min()"
   ]
  },
  {
   "cell_type": "code",
   "execution_count": 128,
   "metadata": {},
   "outputs": [
    {
     "data": {
      "text/plain": [
       "date             2017-09-15 00:00:00\n",
       "temp avg                       17.78\n",
       "temp min                       10.22\n",
       "temp max                       27.14\n",
       "precipitation                      0\n",
       "snow                               0\n",
       "wind dir                         1.2\n",
       "wind speed                       1.8\n",
       "air pressure                   994.6\n",
       "willRain                           0\n",
       "dtype: object"
      ]
     },
     "execution_count": 128,
     "metadata": {},
     "output_type": "execute_result"
    }
   ],
   "source": [
    "'''Converts all three average, minimum, maximum temperatures from celsius to farhenheit'''\n",
    "weather['temp avg'] = weather.apply(lambda x: ((9/5)*x['temp avg'])+32,axis=1)\n",
    "weather['temp min'] = weather.apply(lambda x: ((9/5)*x['temp min'])+32,axis=1)\n",
    "weather['temp max'] = weather.apply(lambda x: ((9/5)*x['temp max'])+32,axis=1)"
   ]
  },
  {
   "cell_type": "code",
   "execution_count": 138,
   "metadata": {
    "scrolled": true
   },
   "outputs": [
    {
     "name": "stderr",
     "output_type": "stream",
     "text": [
      "FutureWarning: DataFrame.mean and DataFrame.median with numeric_only=None will include datetime64 and datetime64tz columns in a future version.\n"
     ]
    },
    {
     "data": {
      "text/plain": [
       "temp avg           54.441902\n",
       "temp min           43.168707\n",
       "temp max           66.144904\n",
       "precipitation       0.916264\n",
       "snow                2.193495\n",
       "wind dir          210.681902\n",
       "wind speed         12.093745\n",
       "air pressure     1016.276981\n",
       "willRain            0.240200\n",
       "dtype: float64"
      ]
     },
     "execution_count": 138,
     "metadata": {},
     "output_type": "execute_result"
    }
   ],
   "source": [
    "weather.mean()"
   ]
  },
  {
   "cell_type": "markdown",
   "metadata": {},
   "source": [
    "We found in the weather.mean() command that only 24% of the days in our dataset actually rain. So if you were taking a guess for one day, you would most likely guess that 75% of the days there will be no rain in Boise."
   ]
  },
  {
   "cell_type": "code",
   "execution_count": 129,
   "metadata": {},
   "outputs": [],
   "source": [
    "feature_names = ['temp avg', 'temp min', 'temp max', 'wind dir', 'wind speed', 'air pressure']\n",
    "label = ['willRain']\n",
    "X = weather[feature_names] # features\n",
    "Y = weather.willRain       # label"
   ]
  },
  {
   "cell_type": "code",
   "execution_count": 130,
   "metadata": {},
   "outputs": [],
   "source": [
    "from sklearn.model_selection import train_test_split\n",
    "X_train,X_test,y_train,y_test=train_test_split(X,Y, test_size=0.20, random_state=0)"
   ]
  },
  {
   "cell_type": "code",
   "execution_count": 131,
   "metadata": {},
   "outputs": [],
   "source": [
    "from sklearn.linear_model import LogisticRegression\n",
    "logreg = LogisticRegression(max_iter=5000)\n",
    "\n",
    "logreg.fit(X_train,y_train)\n",
    "y_pred = logreg.predict(X_test)"
   ]
  },
  {
   "cell_type": "markdown",
   "metadata": {},
   "source": [
    "If the accuracy of our model is actually 84%, that would mean that it is only slightly better than a guess if we follow the previous calculations that roughly only 24% of the days in Boise will rain based on our dataset. It is likely that with more data, that percentage would be even lower. "
   ]
  },
  {
   "cell_type": "code",
   "execution_count": 139,
   "metadata": {
    "scrolled": false
   },
   "outputs": [
    {
     "name": "stdout",
     "output_type": "stream",
     "text": [
      "Accuracy: 0.8416666666666667\n"
     ]
    }
   ],
   "source": [
    "from sklearn import metrics\n",
    "print(\"Accuracy:\",metrics.accuracy_score(y_test, y_pred))"
   ]
  },
  {
   "cell_type": "code",
   "execution_count": 140,
   "metadata": {},
   "outputs": [
    {
     "data": {
      "image/png": "[encoded data removed]",
      "text/plain": [
       "<Figure size 432x288 with 1 Axes>"
      ]
     },
     "metadata": {
      "needs_background": "light"
     },
     "output_type": "display_data"
    }
   ],
   "source": [
    "plt.scatter(X['temp avg'], Y)\n",
    "plt.show()"
   ]
  },
  {
   "cell_type": "code",
   "execution_count": 141,
   "metadata": {},
   "outputs": [
    {
     "data": {
      "text/plain": [
       "[]"
      ]
     },
     "execution_count": 141,
     "metadata": {},
     "output_type": "execute_result"
    },
    {
     "data": {
      "image/png": "[encoded data removed]",
      "text/plain": [
       "<Figure size 432x288 with 1 Axes>"
      ]
     },
     "metadata": {
      "needs_background": "light"
     },
     "output_type": "display_data"
    }
   ],
   "source": [
    "import seaborn as sns\n",
    "sns.regplot(x = \"air pressure\", y = \"willRain\", data = weather, logistic=True)\n",
    "plt.plot()"
   ]
  },
  {
   "cell_type": "markdown",
   "metadata": {},
   "source": [
    "I will now attempt to compute the coefficient importance for each of the features. Below, air pressure exhibits almost zero importance which could be largely due to the minimal variance between days that it rained and days in which it didn't rain. Minimum temperature was found to be the only feature that had a relatively large importance in comparison to the rest of the features. "
   ]
  },
  {
   "cell_type": "code",
   "execution_count": 137,
   "metadata": {},
   "outputs": [
    {
     "data": {
      "text/plain": [
       "Text(0.5, 0, 'Importance')"
      ]
     },
     "execution_count": 137,
     "metadata": {},
     "output_type": "execute_result"
    },
    {
     "data": {
      "image/png": "[encoded data removed]",
      "text/plain": [
       "<Figure size 792x432 with 1 Axes>"
      ]
     },
     "metadata": {
      "needs_background": "light"
     },
     "output_type": "display_data"
    }
   ],
   "source": [
    "'''Coefficients'''\n",
    "coeff = list(logreg.coef_[0])\n",
    "labels = list(X_train.columns)\n",
    "features = pd.DataFrame()\n",
    "features['Features'] = labels\n",
    "features['importance'] = coeff\n",
    "features.sort_values(by=['importance'], ascending=True, inplace=True)\n",
    "features['positive'] = features['importance'] > 0\n",
    "features.set_index('Features', inplace=True)\n",
    "features.importance.plot(kind='barh', figsize=(11, 6),color = features.positive.map({True: 'blue', False: 'red'}))\n",
    "plt.xlabel('Importance')"
   ]
  }
 ],
 "metadata": {
  "kernelspec": {
   "display_name": "Python 3",
   "language": "python",
   "name": "python3"
  },
  "language_info": {
   "codemirror_mode": {
    "name": "ipython",
    "version": 3
   },
   "file_extension": ".py",
   "mimetype": "text/x-python",
   "name": "python",
   "nbconvert_exporter": "python",
   "pygments_lexer": "ipython3",
   "version": "3.8.5"
  }
 },
 "nbformat": 4,
 "nbformat_minor": 4
}
